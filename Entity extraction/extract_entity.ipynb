{
  "nbformat": 4,
  "nbformat_minor": 0,
  "metadata": {
    "colab": {
      "provenance": []
    },
    "kernelspec": {
      "name": "python3",
      "display_name": "Python 3"
    },
    "language_info": {
      "name": "python"
    }
  },
  "cells": [
    {
      "cell_type": "code",
      "source": [
        "import re\n",
        "import spacy\n",
        "import json\n",
        "from spacy.matcher import Matcher\n",
        "\n"
      ],
      "metadata": {
        "id": "rCLNwzFnzoIv"
      },
      "execution_count": null,
      "outputs": []
    },
    {
      "cell_type": "markdown",
      "source": [
        "#Nomenclature preparation"
      ],
      "metadata": {
        "id": "tOkZghZ0l3lQ"
      }
    },
    {
      "cell_type": "code",
      "source": [
        "import csv\n",
        "\n",
        "def nomenclature_preparation(input_file_path, output_file_path):\n",
        "  with open(input_file_path, mode='r', newline='') as input_file, \\\n",
        "     open(output_file_path, mode='w', newline='') as output_file:\n",
        "\n",
        "    # Create CSV reader and writer objects\n",
        "    csv_reader = csv.reader(input_file)\n",
        "    csv_writer = csv.writer(output_file)\n",
        "\n",
        "    # Iterate over each row in the input CSV file\n",
        "    for row in csv_reader:\n",
        "        # Remove leading/trailing spaces, empty strings, convert to lowercase, remove \"other\", and remove duplicates\n",
        "        seen = set()\n",
        "        filtered_row = [\n",
        "            field.strip().lower() for field in row\n",
        "            if field.strip() != '' and field.strip().lower() != 'other' and not (field.strip().lower() in seen or seen.add(field.strip().lower()))\n",
        "        ]\n",
        "\n",
        "        # Write the filtered row to the output CSV file if it is not empty\n",
        "        if filtered_row:\n",
        "            csv_writer.writerow(filtered_row)\n",
        "\n",
        "        # Print the filtered row if it is not empty\n",
        "        if filtered_row:\n",
        "            print(filtered_row)"
      ],
      "metadata": {
        "id": "sLxN854P_bOx"
      },
      "execution_count": null,
      "outputs": []
    },
    {
      "cell_type": "code",
      "source": [
        "input_file_path_LC = '/content/LCvocabulary.csv'\n",
        "output_file_path = '/content/output.csv'\n",
        "nomenclature_preparation(input_file_path_LC, output_file_path)"
      ],
      "metadata": {
        "colab": {
          "base_uri": "https://localhost:8080/"
        },
        "id": "BFgYEmks_vX0",
        "outputId": "f1333b95-3867-4a4d-b4eb-a3d116631758"
      },
      "execution_count": null,
      "outputs": [
        {
          "output_type": "stream",
          "name": "stdout",
          "text": [
            "['crop', 'annual crop', 'seasonal crop', 'cereals', 'grain', 'maize', 'corn']\n",
            "['yearly crop', 'oats', 'oat']\n",
            "['rice', 'irrigated rice', 'paddy fields', 'paddy field']\n",
            "['rainfed rice', 'rice paddies', 'rice fields', 'rice paddy']\n",
            "['millets']\n",
            "['rye']\n",
            "['sorghum', 'mijo', 'hegari', 'jowar', 'kafir corn']\n",
            "['barley']\n",
            "['other cerealsother cereals', 'mixed cereals']\n",
            "['vegetables', 'leaf vegetables', 'leafy vegetables', 'artichokes']\n",
            "['melons', 'stem vegetables', 'asparagus']\n",
            "['cabbages']\n",
            "['cauliflowers', 'broccoli']\n",
            "['lettuce', 'calabrese']\n",
            "['spinach']\n",
            "['chicory']\n",
            "['fruit bearing vegetables', 'cucumbers']\n",
            "['eggplants', 'aubergines', 'brinjal']\n",
            "['tomatoes']\n",
            "['watermelons', 'water melons']\n",
            "['melons', 'muskmelons']\n",
            "['pumpkin', 'squash', 'gourds']\n",
            "['root bulb', 'tuberous vegetables', 'carrots']\n",
            "['onions', 'shallots']\n",
            "['taro', 'cocoyam', 'dasheen']\n",
            "['turnips']\n",
            "['garlic']\n",
            "['leeks', 'bulbous vegetables', 'alliaceous\\nvegetables']\n",
            "['chives', 'scallions']\n",
            "['oilseed', 'oilseed crops', 'oil crops', 'oil plants', 'groundnuts', 'monkeynuts', 'peanuts']\n",
            "['castor bean', 'castor seed']\n",
            "['linseed', 'flaxseed']\n",
            "['mustard', 'mustard oil']\n",
            "['niger seed']\n",
            "['rapeseed', 'canola seed', 'colza seed']\n",
            "['safflower']\n",
            "['sesame']\n",
            "['sunflower']\n",
            "['root', 'tuber crops', 'casava', 'mandioca', 'manioc', 'yuca']\n",
            "['tuber', 'potatoes']\n",
            "['sweet potatoes', 'sweetpotatoes']\n",
            "['yams']\n",
            "['leguminous crops', 'beans']\n",
            "['leguminous', 'peas']\n",
            "['legumes', 'soya beans', 'soja beans']\n",
            "['other crops', 'grasses', 'fodder crops', 'forage crops', 'pasture plants']\n",
            "['fibre crops', 'cotton', 'fiber crops', 'fibre plants', 'textile crops']\n",
            "['ligneous crops', 'fruit crops', 'orchard crops', 'kiwifruit', 'kiwi', 'chinese gooseberry']\n",
            "['fruit', 'citrus fruits', 'orange', 'lemon', 'lime', 'grapefruit', 'desert lime', 'mandarin', 'clementine', 'pomelo']\n",
            "['pineapples']\n",
            "['guava']\n",
            "['pomegranate']\n",
            "['persimmon']\n",
            "['papayas']\n",
            "['mangoes']\n",
            "['nuts', 'cashew']\n",
            "['pecan']\n",
            "['pistachios']\n",
            "['agroforestry']\n",
            "['non-crop', 'fallow', 'fallows']\n",
            "['savanna', 'savannah', 'tree', 'savannah with tree']\n",
            "['shrubs', 'shrub', 'savannah with shrubs', 'savannah with shrubs / shrub land']\n",
            "['shrubland', 'grassland', 'meadows', 'grassland &\\nmeadows']\n",
            "['forests', 'forest', 'evergreen forest', 'evergreen mixed forests', 'mediterranean mixed forests']\n",
            "['tiger bush', 'brousse tigrée', 'tiger bush / brousse tigrée']\n",
            "['bare soil']\n",
            "['build-up surface']\n",
            "['roads']\n",
            "['water', 'water bodies']\n",
            "['historical land', 'historical land of forests', 'uncommon fallow', 'culture', 'pastoralism', 'land use without pasture']\n",
            "['build-up surface', 'artificial land', 'city', 'urban', 'loss of soil']\n",
            "['agriculture']\n",
            "['lulcc']\n",
            "['land cover']\n",
            "['water']\n"
          ]
        }
      ]
    },
    {
      "cell_type": "code",
      "source": [
        "input_file_path_LCP = '/content/LCprocess.csv'\n",
        "output_file_path_LCP = '/content/outputLCP.csv'\n",
        "nomenclature_preparation(input_file_path_LCP, output_file_path_LCP)"
      ],
      "metadata": {
        "colab": {
          "base_uri": "https://localhost:8080/"
        },
        "id": "3Ftz1T1yBZN-",
        "outputId": "603ff72b-c5ef-4efd-bec1-7cf5b6fb44da"
      },
      "execution_count": null,
      "outputs": [
        {
          "output_type": "stream",
          "name": "stdout",
          "text": [
            "['deforestation']\n",
            "['reforestation', 'forest restoration']\n",
            "['afforestation']\n",
            "['cultivation']\n",
            "['abandon of crops']\n",
            "['agricultural decline', 'agriculture abandonment']\n",
            "['crop rotation']\n",
            "['artificialisation', 'artificialization', 'artificial land']\n",
            "['urbanisation,', 'urbanization', 'urban development']\n",
            "['desertification']\n",
            "['erosion']\n",
            "['savannization']\n",
            "['land use']\n"
          ]
        }
      ]
    },
    {
      "cell_type": "markdown",
      "source": [
        "#One pipeline approach"
      ],
      "metadata": {
        "id": "9SAUs9tb9yG5"
      }
    },
    {
      "cell_type": "code",
      "source": [
        "!pip install spacy"
      ],
      "metadata": {
        "colab": {
          "base_uri": "https://localhost:8080/"
        },
        "id": "lZ2w73zE-bSG",
        "outputId": "805cf350-8f7f-4303-84eb-ab268e780ca4"
      },
      "execution_count": null,
      "outputs": [
        {
          "output_type": "stream",
          "name": "stdout",
          "text": [
            "Requirement already satisfied: spacy in /usr/local/lib/python3.10/dist-packages (3.7.5)\n",
            "Requirement already satisfied: spacy-legacy<3.1.0,>=3.0.11 in /usr/local/lib/python3.10/dist-packages (from spacy) (3.0.12)\n",
            "Requirement already satisfied: spacy-loggers<2.0.0,>=1.0.0 in /usr/local/lib/python3.10/dist-packages (from spacy) (1.0.5)\n",
            "Requirement already satisfied: murmurhash<1.1.0,>=0.28.0 in /usr/local/lib/python3.10/dist-packages (from spacy) (1.0.10)\n",
            "Requirement already satisfied: cymem<2.1.0,>=2.0.2 in /usr/local/lib/python3.10/dist-packages (from spacy) (2.0.8)\n",
            "Requirement already satisfied: preshed<3.1.0,>=3.0.2 in /usr/local/lib/python3.10/dist-packages (from spacy) (3.0.9)\n",
            "Requirement already satisfied: thinc<8.3.0,>=8.2.2 in /usr/local/lib/python3.10/dist-packages (from spacy) (8.2.5)\n",
            "Requirement already satisfied: wasabi<1.2.0,>=0.9.1 in /usr/local/lib/python3.10/dist-packages (from spacy) (1.1.3)\n",
            "Requirement already satisfied: srsly<3.0.0,>=2.4.3 in /usr/local/lib/python3.10/dist-packages (from spacy) (2.4.8)\n",
            "Requirement already satisfied: catalogue<2.1.0,>=2.0.6 in /usr/local/lib/python3.10/dist-packages (from spacy) (2.0.10)\n",
            "Requirement already satisfied: weasel<0.5.0,>=0.1.0 in /usr/local/lib/python3.10/dist-packages (from spacy) (0.4.1)\n",
            "Requirement already satisfied: typer<1.0.0,>=0.3.0 in /usr/local/lib/python3.10/dist-packages (from spacy) (0.12.3)\n",
            "Requirement already satisfied: tqdm<5.0.0,>=4.38.0 in /usr/local/lib/python3.10/dist-packages (from spacy) (4.66.4)\n",
            "Requirement already satisfied: requests<3.0.0,>=2.13.0 in /usr/local/lib/python3.10/dist-packages (from spacy) (2.31.0)\n",
            "Requirement already satisfied: pydantic!=1.8,!=1.8.1,<3.0.0,>=1.7.4 in /usr/local/lib/python3.10/dist-packages (from spacy) (2.8.2)\n",
            "Requirement already satisfied: jinja2 in /usr/local/lib/python3.10/dist-packages (from spacy) (3.1.4)\n",
            "Requirement already satisfied: setuptools in /usr/local/lib/python3.10/dist-packages (from spacy) (67.7.2)\n",
            "Requirement already satisfied: packaging>=20.0 in /usr/local/lib/python3.10/dist-packages (from spacy) (24.1)\n",
            "Requirement already satisfied: langcodes<4.0.0,>=3.2.0 in /usr/local/lib/python3.10/dist-packages (from spacy) (3.4.0)\n",
            "Requirement already satisfied: numpy>=1.19.0 in /usr/local/lib/python3.10/dist-packages (from spacy) (1.25.2)\n",
            "Requirement already satisfied: language-data>=1.2 in /usr/local/lib/python3.10/dist-packages (from langcodes<4.0.0,>=3.2.0->spacy) (1.2.0)\n",
            "Requirement already satisfied: annotated-types>=0.4.0 in /usr/local/lib/python3.10/dist-packages (from pydantic!=1.8,!=1.8.1,<3.0.0,>=1.7.4->spacy) (0.7.0)\n",
            "Requirement already satisfied: pydantic-core==2.20.1 in /usr/local/lib/python3.10/dist-packages (from pydantic!=1.8,!=1.8.1,<3.0.0,>=1.7.4->spacy) (2.20.1)\n",
            "Requirement already satisfied: typing-extensions>=4.6.1 in /usr/local/lib/python3.10/dist-packages (from pydantic!=1.8,!=1.8.1,<3.0.0,>=1.7.4->spacy) (4.12.2)\n",
            "Requirement already satisfied: charset-normalizer<4,>=2 in /usr/local/lib/python3.10/dist-packages (from requests<3.0.0,>=2.13.0->spacy) (3.3.2)\n",
            "Requirement already satisfied: idna<4,>=2.5 in /usr/local/lib/python3.10/dist-packages (from requests<3.0.0,>=2.13.0->spacy) (3.7)\n",
            "Requirement already satisfied: urllib3<3,>=1.21.1 in /usr/local/lib/python3.10/dist-packages (from requests<3.0.0,>=2.13.0->spacy) (2.0.7)\n",
            "Requirement already satisfied: certifi>=2017.4.17 in /usr/local/lib/python3.10/dist-packages (from requests<3.0.0,>=2.13.0->spacy) (2024.7.4)\n",
            "Requirement already satisfied: blis<0.8.0,>=0.7.8 in /usr/local/lib/python3.10/dist-packages (from thinc<8.3.0,>=8.2.2->spacy) (0.7.11)\n",
            "Requirement already satisfied: confection<1.0.0,>=0.0.1 in /usr/local/lib/python3.10/dist-packages (from thinc<8.3.0,>=8.2.2->spacy) (0.1.5)\n",
            "Requirement already satisfied: click>=8.0.0 in /usr/local/lib/python3.10/dist-packages (from typer<1.0.0,>=0.3.0->spacy) (8.1.7)\n",
            "Requirement already satisfied: shellingham>=1.3.0 in /usr/local/lib/python3.10/dist-packages (from typer<1.0.0,>=0.3.0->spacy) (1.5.4)\n",
            "Requirement already satisfied: rich>=10.11.0 in /usr/local/lib/python3.10/dist-packages (from typer<1.0.0,>=0.3.0->spacy) (13.7.1)\n",
            "Requirement already satisfied: cloudpathlib<1.0.0,>=0.7.0 in /usr/local/lib/python3.10/dist-packages (from weasel<0.5.0,>=0.1.0->spacy) (0.18.1)\n",
            "Requirement already satisfied: smart-open<8.0.0,>=5.2.1 in /usr/local/lib/python3.10/dist-packages (from weasel<0.5.0,>=0.1.0->spacy) (7.0.4)\n",
            "Requirement already satisfied: MarkupSafe>=2.0 in /usr/local/lib/python3.10/dist-packages (from jinja2->spacy) (2.1.5)\n",
            "Requirement already satisfied: marisa-trie>=0.7.7 in /usr/local/lib/python3.10/dist-packages (from language-data>=1.2->langcodes<4.0.0,>=3.2.0->spacy) (1.2.0)\n",
            "Requirement already satisfied: markdown-it-py>=2.2.0 in /usr/local/lib/python3.10/dist-packages (from rich>=10.11.0->typer<1.0.0,>=0.3.0->spacy) (3.0.0)\n",
            "Requirement already satisfied: pygments<3.0.0,>=2.13.0 in /usr/local/lib/python3.10/dist-packages (from rich>=10.11.0->typer<1.0.0,>=0.3.0->spacy) (2.16.1)\n",
            "Requirement already satisfied: wrapt in /usr/local/lib/python3.10/dist-packages (from smart-open<8.0.0,>=5.2.1->weasel<0.5.0,>=0.1.0->spacy) (1.14.1)\n",
            "Requirement already satisfied: mdurl~=0.1 in /usr/local/lib/python3.10/dist-packages (from markdown-it-py>=2.2.0->rich>=10.11.0->typer<1.0.0,>=0.3.0->spacy) (0.1.2)\n"
          ]
        }
      ]
    },
    {
      "cell_type": "code",
      "source": [
        "import spacy\n",
        "import json\n",
        "import re\n",
        "from spacy.matcher import Matcher\n",
        "from spacy.pipeline import EntityRuler\n",
        "\n",
        "\n",
        "nlp = spacy.load(\"en_core_web_sm\")\n",
        "# Initialize the Matcher with the shared vocabulary\n",
        "matcher = Matcher(nlp.vocab)\n"
      ],
      "metadata": {
        "id": "7W1oTxbm-RUJ"
      },
      "execution_count": null,
      "outputs": []
    },
    {
      "cell_type": "code",
      "source": [
        "# Define the list of lemmas\n",
        "lemmas_evol = [\"increase\", \"decrease\"]\n",
        "\n",
        "\n",
        "# Generate patterns dynamically\n",
        "patterns_evol = [{\"label\": \"VRC\", \"pattern\": [{\"LEMMA\": lemma}]} for lemma in lemmas_evol]\n"
      ],
      "metadata": {
        "id": "0sH8Vc8CFf3u"
      },
      "execution_count": null,
      "outputs": []
    },
    {
      "cell_type": "code",
      "source": [
        "#file which contains the list of words of Land Cover\n",
        "file_path = '/content/output.csv'\n",
        "\n",
        "# Initialize an empty list to store the words\n",
        "words = []\n",
        "\n",
        "\n",
        "def read_csv(path, content):\n",
        "    with open(path, 'r') as file:\n",
        "        reader = csv.reader(file)\n",
        "        for row in reader:\n",
        "            content.extend(row)\n",
        "        return content\n",
        "\n",
        "words = read_csv(file_path, words)\n",
        "\n",
        "# Format the list as a string\n",
        "lemmas_evol_lc = [word.strip() for word in words]  # Remove any extra spaces\n",
        "print(lemmas_evol_lc)\n",
        "patterns_lc = [{\"label\": \"LCover\", \"pattern\": [{\"LEMMA\": lemma}]} for lemma in lemmas_evol_lc]\n",
        "#print(patterns_lc)\n",
        "\n"
      ],
      "metadata": {
        "id": "o-1qiT3h0nq-",
        "colab": {
          "base_uri": "https://localhost:8080/"
        },
        "outputId": "a8e33813-f1cc-4269-bc50-89de6913e53a"
      },
      "execution_count": null,
      "outputs": [
        {
          "output_type": "stream",
          "name": "stdout",
          "text": [
            "['crop', 'annual crop', 'seasonal crop', 'cereals', 'grain', 'maize', 'corn', 'yearly crop', 'oats', 'oat', 'rice', 'irrigated rice', 'paddy fields', 'paddy field', 'rainfed rice', 'rice paddies', 'rice fields', 'rice paddy', 'millets', 'rye', 'sorghum', 'mijo', 'hegari', 'jowar', 'kafir corn', 'barley', 'other cerealsother cereals', 'mixed cereals', 'vegetables', 'leaf vegetables', 'leafy vegetables', 'artichokes', 'melons', 'stem vegetables', 'asparagus', 'cabbages', 'cauliflowers', 'broccoli', 'lettuce', 'calabrese', 'spinach', 'chicory', 'fruit bearing vegetables', 'cucumbers', 'eggplants', 'aubergines', 'brinjal', 'tomatoes', 'watermelons', 'water melons', 'melons', 'muskmelons', 'pumpkin', 'squash', 'gourds', 'root bulb', 'tuberous vegetables', 'carrots', 'onions', 'shallots', 'taro', 'cocoyam', 'dasheen', 'turnips', 'garlic', 'leeks', 'bulbous vegetables', 'alliaceous\\nvegetables', 'chives', 'scallions', 'oilseed', 'oilseed crops', 'oil crops', 'oil plants', 'groundnuts', 'monkeynuts', 'peanuts', 'castor bean', 'castor seed', 'linseed', 'flaxseed', 'mustard', 'mustard oil', 'niger seed', 'rapeseed', 'canola seed', 'colza seed', 'safflower', 'sesame', 'sunflower', 'root', 'tuber crops', 'casava', 'mandioca', 'manioc', 'yuca', 'tuber', 'potatoes', 'sweet potatoes', 'sweetpotatoes', 'yams', 'leguminous crops', 'beans', 'leguminous', 'peas', 'legumes', 'soya beans', 'soja beans', 'other crops', 'grasses', 'fodder crops', 'forage crops', 'pasture plants', 'fibre crops', 'cotton', 'fiber crops', 'fibre plants', 'textile crops', 'ligneous crops', 'fruit crops', 'orchard crops', 'kiwifruit', 'kiwi', 'chinese gooseberry', 'fruit', 'citrus fruits', 'orange', 'lemon', 'lime', 'grapefruit', 'desert lime', 'mandarin', 'clementine', 'pomelo', 'pineapples', 'guava', 'pomegranate', 'persimmon', 'papayas', 'mangoes', 'nuts', 'cashew', 'pecan', 'pistachios', 'agroforestry', 'non-crop', 'fallow', 'fallows', 'savanna', 'savannah', 'tree', 'savannah with tree', 'shrubs', 'shrub', 'savannah with shrubs', 'savannah with shrubs / shrub land', 'shrubland', 'grassland', 'meadows', 'grassland &\\nmeadows', 'forests', 'forest', 'evergreen forest', 'evergreen mixed forests', 'mediterranean mixed forests', 'tiger bush', 'brousse tigrée', 'tiger bush / brousse tigrée', 'bare soil', 'build-up surface', 'roads', 'water', 'water bodies', 'historical land', 'historical land of forests', 'uncommon fallow', 'culture', 'pastoralism', 'land use without pasture', 'build-up surface', 'artificial land', 'city', 'urban', 'loss of soil', 'agriculture', 'lulcc', 'land cover', 'water']\n"
          ]
        }
      ]
    },
    {
      "cell_type": "code",
      "source": [
        "# Format the list as a string\n",
        "file_path_1 = '/content/outputLCP.csv'\n",
        "words_1 = []\n",
        "words_1 = read_csv(file_path_1, words_1)\n",
        "print(words_1)\n",
        "lemmas_evol_lp = [word.strip() for word in words_1]  # Remove any extra spaces\n",
        "patterns_lp = [{\"label\": \"LProcess\", \"pattern\": [{\"LEMMA\": lemma}]} for lemma in lemmas_evol_lp]\n",
        "print(patterns_lp)"
      ],
      "metadata": {
        "colab": {
          "base_uri": "https://localhost:8080/"
        },
        "id": "4VA79DrhQru9",
        "outputId": "6b68044c-1e7c-4503-951e-44a3661051cc"
      },
      "execution_count": null,
      "outputs": [
        {
          "output_type": "stream",
          "name": "stdout",
          "text": [
            "['deforestation', 'reforestation', 'forest restoration', 'afforestation', 'cultivation', 'abandon of crops', 'agricultural decline', 'agriculture abandonment', 'crop rotation', 'artificialisation', 'artificialization', 'artificial land', 'urbanisation,', 'urbanization', 'urban development', 'desertification', 'erosion', 'savannization', 'land use']\n",
            "[{'label': 'LProcess', 'pattern': [{'LEMMA': 'deforestation'}]}, {'label': 'LProcess', 'pattern': [{'LEMMA': 'reforestation'}]}, {'label': 'LProcess', 'pattern': [{'LEMMA': 'forest restoration'}]}, {'label': 'LProcess', 'pattern': [{'LEMMA': 'afforestation'}]}, {'label': 'LProcess', 'pattern': [{'LEMMA': 'cultivation'}]}, {'label': 'LProcess', 'pattern': [{'LEMMA': 'abandon of crops'}]}, {'label': 'LProcess', 'pattern': [{'LEMMA': 'agricultural decline'}]}, {'label': 'LProcess', 'pattern': [{'LEMMA': 'agriculture abandonment'}]}, {'label': 'LProcess', 'pattern': [{'LEMMA': 'crop rotation'}]}, {'label': 'LProcess', 'pattern': [{'LEMMA': 'artificialisation'}]}, {'label': 'LProcess', 'pattern': [{'LEMMA': 'artificialization'}]}, {'label': 'LProcess', 'pattern': [{'LEMMA': 'artificial land'}]}, {'label': 'LProcess', 'pattern': [{'LEMMA': 'urbanisation,'}]}, {'label': 'LProcess', 'pattern': [{'LEMMA': 'urbanization'}]}, {'label': 'LProcess', 'pattern': [{'LEMMA': 'urban development'}]}, {'label': 'LProcess', 'pattern': [{'LEMMA': 'desertification'}]}, {'label': 'LProcess', 'pattern': [{'LEMMA': 'erosion'}]}, {'label': 'LProcess', 'pattern': [{'LEMMA': 'savannization'}]}, {'label': 'LProcess', 'pattern': [{'LEMMA': 'land use'}]}]\n"
          ]
        }
      ]
    },
    {
      "cell_type": "code",
      "source": [
        "\n",
        "# Load SpaCy model\n",
        "labels = []\n",
        "patterns = [\n",
        "    {\n",
        "        \"label\": \"SURFACE_UNIT\",\n",
        "        \"pattern\": [{\"LOWER\": {'REGEX': \"(kilometers|km²|^[0-9]+(?:\\\\.[0-9]+)?\\\\s*ha$|acres|hectares|billion|km)[ .]?\"}}]\n",
        "    },\n",
        "\n",
        "        {\n",
        "        \"label\": \"DIRECTION\",\n",
        "        \"pattern\": [{\"LOWER\": {'REGEX': \"(sahel|east|south|west|north)[ .]?\"}}]\n",
        "    },\n",
        "\n",
        "        {\n",
        "        \"label\": \"COORDINATES\",\n",
        "        \"pattern\": [{\"TEXT\":{'REGEX': r'\\b\\d{1,2}\\s?°[NEWS]\\s?–\\s?\\d{1,2}\\s?°[NEWS]\\b'}}]\n",
        "    }\n",
        "    #{\"label\": \"VERB\", \"pattern\": [{\"LEMMA\": \"(increase|decrease)\"}]},\n",
        "    #{\"label\": \"LCover\", \"pattern\": [{[{\"LEMMA\": lemma}]} for lemma in lemmas_evol_lc]},\n",
        "    #{\"label\": \"LProcess\", \"pattern\": [{\"LEMMA\": {\"IN\": lemmas_evol_lp}}]}\n",
        "]\n",
        "\n",
        "\n",
        "patterns = patterns + patterns_evol + patterns_lc + patterns_lp\n",
        "\n",
        "# Initialiser l'EntityRuler et ajouter les modèles\n",
        "ruler = nlp.add_pipe(\"entity_ruler\", before=\"ner\")\n",
        "\n",
        "\n",
        "# Add the custom component to the pipeline\n",
        "ruler.add_patterns(patterns)\n",
        "\n",
        "# Ajouter l'EntityRuler à la pipeline\n",
        "\n",
        "\n"
      ],
      "metadata": {
        "id": "fwFp7tpYE54f"
      },
      "execution_count": null,
      "outputs": []
    },
    {
      "cell_type": "code",
      "source": [
        "doc = nlp(\"Thus changes in land use  strategies rice result not only in a simple expansion of fields to new and less attractive land\")\n",
        "#for e in doc.ents:\n",
        "#  labels.append([e.start_char, e.end_char, e.label_])\n",
        "\n",
        "for ent in doc.ents:\n",
        "    print(ent.text, ent.label_)"
      ],
      "metadata": {
        "colab": {
          "base_uri": "https://localhost:8080/"
        },
        "id": "UzY4EuL36JCG",
        "outputId": "8d10dc0e-1951-48a7-c723-900f37f2fc16"
      },
      "execution_count": null,
      "outputs": [
        {
          "output_type": "stream",
          "name": "stdout",
          "text": [
            "rice LCover\n"
          ]
        }
      ]
    },
    {
      "cell_type": "code",
      "source": [
        "\n",
        "\n",
        "\n",
        "\n",
        "def search_patterns(row):\n",
        "  text = row['cleaned_text']\n",
        "  id_text = row['doccano task']\n",
        "  doc = nlp(text)\n",
        "  labels = []\n",
        "  for e in doc.ents:\n",
        "    labels.append([e.start_char, e.end_char, e.label_])\n",
        "  entry = {'id': id_text, 'text': doc.text, 'label': labels}\n",
        "  return entry\n",
        "\n",
        "\n",
        "# Process each row in the DataFrame\n",
        "jsonl_data = df[['doccano task', 'cleaned_text']].apply(search_patterns, axis=1).tolist()\n",
        "\n",
        "# Write to JSONL file\n",
        "filename = 'output.jsonl'\n",
        "with open(filename, 'w') as outfile:\n",
        "    for entry in jsonl_data:\n",
        "        json.dump(entry, outfile)\n",
        "        outfile.write('\\n')\n"
      ],
      "metadata": {
        "id": "HBC6Y8nj6CZA"
      },
      "execution_count": null,
      "outputs": []
    },
    {
      "cell_type": "code",
      "source": [
        "processed_data = []\n",
        "for entry in jsonl_data:\n",
        "    id_text = entry['id']\n",
        "    text = entry['text']\n",
        "    labels = len(entry['label'])  # Counting the number of labels\n",
        "    processed_data.append({'id': id_text, 'text': text, 'labels': labels})\n",
        "\n",
        "result_df = pd.DataFrame(processed_data)\n"
      ],
      "metadata": {
        "id": "HZdQAON6W2j3"
      },
      "execution_count": null,
      "outputs": []
    },
    {
      "cell_type": "code",
      "source": [
        "ranking = result_df.sort_values(by='labels', ascending=False)"
      ],
      "metadata": {
        "id": "jI5XbmQuXA6O"
      },
      "execution_count": null,
      "outputs": []
    },
    {
      "cell_type": "code",
      "source": [
        "ranking.to_csv('ranking_window.csv', index=False)"
      ],
      "metadata": {
        "id": "3xVDO9X_bR0r"
      },
      "execution_count": null,
      "outputs": []
    },
    {
      "cell_type": "code",
      "source": [
        "id_text = 1\n",
        "# Prepare the entry for JSONL\n",
        "entry = {'id': id_text, 'text': doc.text, 'label': labels}\n",
        "\n",
        "# Filename with ids\n",
        "id_1 = 1\n",
        "filename = f\"{id_1}.jsonl\"\n",
        "\n",
        "# Write to JSONL file\n",
        "with open(filename, 'a') as outfile:\n",
        "    json.dump(entry, outfile)\n",
        "    outfile.write('\\n')"
      ],
      "metadata": {
        "id": "3AjiOZFuBH-K"
      },
      "execution_count": null,
      "outputs": []
    }
  ]
}